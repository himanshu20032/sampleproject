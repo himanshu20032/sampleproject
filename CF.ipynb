{
  "nbformat": 4,
  "nbformat_minor": 0,
  "metadata": {
    "accelerator": "GPU",
    "colab": {
      "name": "CF.ipynb",
      "provenance": [],
      "mount_file_id": "1431YRqkNPr23BLkzcCKwzg02MXh2t6bg",
      "authorship_tag": "ABX9TyP+uUdQA2GLGwCcMs5u/fZj",
      "include_colab_link": true
    },
    "kernelspec": {
      "display_name": "Python 3",
      "name": "python3"
    }
  },
  "cells": [
    {
      "cell_type": "markdown",
      "metadata": {
        "id": "view-in-github",
        "colab_type": "text"
      },
      "source": [
        "<a href=\"https://colab.research.google.com/github/himanshu20032/sampleproject/blob/master/CF.ipynb\" target=\"_parent\"><img src=\"https://colab.research.google.com/assets/colab-badge.svg\" alt=\"Open In Colab\"/></a>"
      ]
    },
    {
      "cell_type": "code",
      "metadata": {
        "id": "zS4DKXt32FiJ"
      },
      "source": [
        "import pandas as pd\n",
        "from sklearn.metrics.pairwise import cosine_similarity\n",
        "import numpy as np\n",
        "import torch\n",
        "from tqdm import tqdm"
      ],
      "execution_count": 1,
      "outputs": []
    },
    {
      "cell_type": "code",
      "metadata": {
        "id": "0_bYJJiK_5aE"
      },
      "source": [
        "data = pd.read_csv('/content/drive/MyDrive/CF_DATA/u.data',delimiter='\\t',names=['user_id','item_id','rating','time'])"
      ],
      "execution_count": 2,
      "outputs": []
    },
    {
      "cell_type": "code",
      "metadata": {
        "id": "FyIH438WArAm"
      },
      "source": [
        "data = data.drop('time',axis=1)"
      ],
      "execution_count": 3,
      "outputs": []
    },
    {
      "cell_type": "code",
      "metadata": {
        "id": "d5BXL8IBBLPG"
      },
      "source": [
        "movie_matrix = pd.DataFrame(index = list(set(data['user_id'])), columns = list(set(data['item_id'])),dtype=float)\n",
        "movie_matrix = movie_matrix.fillna(0.0)\n",
        "for i in data.index:\n",
        "  user = data.iloc[i]['user_id']\n",
        "  item = data.iloc[i]['item_id']\n",
        "  rating = data.iloc[i]['rating']\n",
        "  movie_matrix.loc[user][item] = rating\n",
        "  "
      ],
      "execution_count": 4,
      "outputs": []
    },
    {
      "cell_type": "code",
      "metadata": {
        "id": "0K0yfXTQmQ0S"
      },
      "source": [
        ""
      ],
      "execution_count": 4,
      "outputs": []
    },
    {
      "cell_type": "code",
      "metadata": {
        "id": "8_uUhPxJe5VE"
      },
      "source": [
        "himanshu = movie_matrix.loc[:10,:8].copy()"
      ],
      "execution_count": 5,
      "outputs": []
    },
    {
      "cell_type": "code",
      "metadata": {
        "id": "YuypW1_jrNCD"
      },
      "source": [
        "#himanshu.to_csv('hi.csv',header=True,index=True)"
      ],
      "execution_count": 6,
      "outputs": []
    },
    {
      "cell_type": "code",
      "metadata": {
        "colab": {
          "base_uri": "https://localhost:8080/"
        },
        "id": "CrKNUnuDgxIu",
        "outputId": "3fdcd543-effd-4785-c762-5fabc3847383"
      },
      "source": [
        "np.array(himanshu.loc[:8,1])"
      ],
      "execution_count": 7,
      "outputs": [
        {
          "output_type": "execute_result",
          "data": {
            "text/plain": [
              "array([5., 4., 0., 0., 4., 4., 0., 0.])"
            ]
          },
          "metadata": {
            "tags": []
          },
          "execution_count": 7
        }
      ]
    },
    {
      "cell_type": "code",
      "metadata": {
        "id": "5RaDkJ80Nb8F"
      },
      "source": [
        "#cosine_similarity([np.array(himanshu.loc[:8,1])], [np.array(himanshu.loc[:8,2])])"
      ],
      "execution_count": 8,
      "outputs": []
    },
    {
      "cell_type": "code",
      "metadata": {
        "id": "WECyOJm0cHUX"
      },
      "source": [
        "def to_device(data, device):\n",
        "    if isinstance(data, (list,tuple)):\n",
        "        return [to_device(x, device) for x in data]\n",
        "    return data.to(device, non_blocking=True)"
      ],
      "execution_count": 9,
      "outputs": []
    },
    {
      "cell_type": "code",
      "metadata": {
        "id": "RvZW18P4l1Yh"
      },
      "source": [
        ""
      ],
      "execution_count": 9,
      "outputs": []
    },
    {
      "cell_type": "code",
      "metadata": {
        "id": "-a1RlOWpKei0"
      },
      "source": [
        "def get_default_device():\n",
        "  if torch.cuda.is_available():\n",
        "    return torch.device('cuda')\n",
        "  else :\n",
        "    return torch.device(\"cpu\")\n",
        "device = get_default_device()"
      ],
      "execution_count": 10,
      "outputs": []
    },
    {
      "cell_type": "code",
      "metadata": {
        "id": "yVVPHgcDkzuI"
      },
      "source": [
        "from sklearn.model_selection import KFold"
      ],
      "execution_count": 11,
      "outputs": []
    },
    {
      "cell_type": "markdown",
      "metadata": {
        "id": "GnorVNK-Vdo8"
      },
      "source": [
        "## ITEM BASED"
      ]
    },
    {
      "cell_type": "code",
      "metadata": {
        "id": "clsH3k6SOPlD"
      },
      "source": [
        ""
      ],
      "execution_count": 11,
      "outputs": []
    },
    {
      "cell_type": "code",
      "metadata": {
        "id": "oL8k8ccDDCOw"
      },
      "source": [
        "#trainning\n",
        "train_data = himanshu.loc[1:8,:].copy()\n",
        "test_data = himanshu.loc[9:,:].copy()\n",
        "\n",
        "def finding_similarity(data,train_data): \n",
        "  similarity_matrix = pd.DataFrame(index = list(data.columns), columns = list(data.columns), dtype=float )\n",
        "  similarity_matrix = similarity_matrix.fillna(0.0)\n",
        "  for i in similarity_matrix.index:\n",
        "    similarity_matrix.loc[i][i] = 1.0\n",
        "  \n",
        "  for item in train_data.index:\n",
        "    for i in train_data.index:\n",
        "      if i != item :\n",
        "        a = np.array(train_data.loc[:,item]).reshape(1,-1)\n",
        "        a = torch.from_numpy(a).float().to(device)\n",
        "        \n",
        "        b = np.array(train_data.loc[:,i]).reshape(1,-1)\n",
        "        b = torch.from_numpy(b).float().to(device)\n",
        "        #cosine_similarity(a,b)\n",
        "        cos = torch.nn.CosineSimilarity(dim=1)\n",
        "        temp=cos(a,b)\n",
        "        similarity_matrix.loc[item][i] = torch.Tensor.numpy(temp.to('cpu'))[0]      \n",
        "  return similarity_matrix\n"
      ],
      "execution_count": 12,
      "outputs": []
    },
    {
      "cell_type": "code",
      "metadata": {
        "id": "VPmvzfCflQag"
      },
      "source": [
        "similarity_matrix = finding_similarity(himanshu,train_data)"
      ],
      "execution_count": 13,
      "outputs": []
    },
    {
      "cell_type": "code",
      "metadata": {
        "colab": {
          "base_uri": "https://localhost:8080/",
          "height": 297
        },
        "id": "vy6MbM5RpeQw",
        "outputId": "0b693e5e-4ae3-4a4c-d596-8c930ebbf1ce"
      },
      "source": [
        "similarity_matrix"
      ],
      "execution_count": 14,
      "outputs": [
        {
          "output_type": "execute_result",
          "data": {
            "text/html": [
              "<div>\n",
              "<style scoped>\n",
              "    .dataframe tbody tr th:only-of-type {\n",
              "        vertical-align: middle;\n",
              "    }\n",
              "\n",
              "    .dataframe tbody tr th {\n",
              "        vertical-align: top;\n",
              "    }\n",
              "\n",
              "    .dataframe thead th {\n",
              "        text-align: right;\n",
              "    }\n",
              "</style>\n",
              "<table border=\"1\" class=\"dataframe\">\n",
              "  <thead>\n",
              "    <tr style=\"text-align: right;\">\n",
              "      <th></th>\n",
              "      <th>1</th>\n",
              "      <th>2</th>\n",
              "      <th>3</th>\n",
              "      <th>4</th>\n",
              "      <th>5</th>\n",
              "      <th>6</th>\n",
              "      <th>7</th>\n",
              "      <th>8</th>\n",
              "    </tr>\n",
              "  </thead>\n",
              "  <tbody>\n",
              "    <tr>\n",
              "      <th>1</th>\n",
              "      <td>1.000000</td>\n",
              "      <td>0.744845</td>\n",
              "      <td>0.585206</td>\n",
              "      <td>0.301086</td>\n",
              "      <td>0.585206</td>\n",
              "      <td>0.585206</td>\n",
              "      <td>0.445964</td>\n",
              "      <td>0.379257</td>\n",
              "    </tr>\n",
              "    <tr>\n",
              "      <th>2</th>\n",
              "      <td>0.744845</td>\n",
              "      <td>1.000000</td>\n",
              "      <td>0.707107</td>\n",
              "      <td>0.363803</td>\n",
              "      <td>0.707107</td>\n",
              "      <td>0.707107</td>\n",
              "      <td>0.384900</td>\n",
              "      <td>0.109109</td>\n",
              "    </tr>\n",
              "    <tr>\n",
              "      <th>3</th>\n",
              "      <td>0.585206</td>\n",
              "      <td>0.707107</td>\n",
              "      <td>1.000000</td>\n",
              "      <td>0.514496</td>\n",
              "      <td>1.000000</td>\n",
              "      <td>1.000000</td>\n",
              "      <td>0.544331</td>\n",
              "      <td>0.154303</td>\n",
              "    </tr>\n",
              "    <tr>\n",
              "      <th>4</th>\n",
              "      <td>0.301086</td>\n",
              "      <td>0.363803</td>\n",
              "      <td>0.514496</td>\n",
              "      <td>1.000000</td>\n",
              "      <td>0.514496</td>\n",
              "      <td>0.514496</td>\n",
              "      <td>0.863506</td>\n",
              "      <td>0.740959</td>\n",
              "    </tr>\n",
              "    <tr>\n",
              "      <th>5</th>\n",
              "      <td>0.585206</td>\n",
              "      <td>0.707107</td>\n",
              "      <td>1.000000</td>\n",
              "      <td>0.514496</td>\n",
              "      <td>1.000000</td>\n",
              "      <td>1.000000</td>\n",
              "      <td>0.544331</td>\n",
              "      <td>0.154303</td>\n",
              "    </tr>\n",
              "    <tr>\n",
              "      <th>6</th>\n",
              "      <td>0.585206</td>\n",
              "      <td>0.707107</td>\n",
              "      <td>1.000000</td>\n",
              "      <td>0.514496</td>\n",
              "      <td>1.000000</td>\n",
              "      <td>1.000000</td>\n",
              "      <td>0.544331</td>\n",
              "      <td>0.154303</td>\n",
              "    </tr>\n",
              "    <tr>\n",
              "      <th>7</th>\n",
              "      <td>0.445964</td>\n",
              "      <td>0.384900</td>\n",
              "      <td>0.544331</td>\n",
              "      <td>0.863506</td>\n",
              "      <td>0.544331</td>\n",
              "      <td>0.544331</td>\n",
              "      <td>1.000000</td>\n",
              "      <td>0.776927</td>\n",
              "    </tr>\n",
              "    <tr>\n",
              "      <th>8</th>\n",
              "      <td>0.379257</td>\n",
              "      <td>0.109109</td>\n",
              "      <td>0.154303</td>\n",
              "      <td>0.740959</td>\n",
              "      <td>0.154303</td>\n",
              "      <td>0.154303</td>\n",
              "      <td>0.776927</td>\n",
              "      <td>1.000000</td>\n",
              "    </tr>\n",
              "  </tbody>\n",
              "</table>\n",
              "</div>"
            ],
            "text/plain": [
              "          1         2         3  ...         6         7         8\n",
              "1  1.000000  0.744845  0.585206  ...  0.585206  0.445964  0.379257\n",
              "2  0.744845  1.000000  0.707107  ...  0.707107  0.384900  0.109109\n",
              "3  0.585206  0.707107  1.000000  ...  1.000000  0.544331  0.154303\n",
              "4  0.301086  0.363803  0.514496  ...  0.514496  0.863506  0.740959\n",
              "5  0.585206  0.707107  1.000000  ...  1.000000  0.544331  0.154303\n",
              "6  0.585206  0.707107  1.000000  ...  1.000000  0.544331  0.154303\n",
              "7  0.445964  0.384900  0.544331  ...  0.544331  1.000000  0.776927\n",
              "8  0.379257  0.109109  0.154303  ...  0.154303  0.776927  1.000000\n",
              "\n",
              "[8 rows x 8 columns]"
            ]
          },
          "metadata": {
            "tags": []
          },
          "execution_count": 14
        }
      ]
    },
    {
      "cell_type": "code",
      "metadata": {
        "id": "Z9MU_ZDmtfpt"
      },
      "source": [
        "a=np.array(similarity_matrix.loc[1])"
      ],
      "execution_count": 15,
      "outputs": []
    },
    {
      "cell_type": "code",
      "metadata": {
        "id": "X2BTUl-UtxEo"
      },
      "source": [
        "b=np.array(test_data.loc[10])"
      ],
      "execution_count": 16,
      "outputs": []
    },
    {
      "cell_type": "code",
      "metadata": {
        "id": "UBAJWQ_NvFhB"
      },
      "source": [
        "sum = sum(a)"
      ],
      "execution_count": 17,
      "outputs": []
    },
    {
      "cell_type": "code",
      "metadata": {
        "colab": {
          "base_uri": "https://localhost:8080/"
        },
        "id": "bgnXvEOmt-_t",
        "outputId": "c64439c1-ed47-4008-d6ca-cfcbae3fcf2c"
      },
      "source": [
        "a = np.array([1,2,3,4])\n",
        "a = a[::-1]\n",
        "a[:2]"
      ],
      "execution_count": 18,
      "outputs": [
        {
          "output_type": "execute_result",
          "data": {
            "text/plain": [
              "array([4, 3])"
            ]
          },
          "metadata": {
            "tags": []
          },
          "execution_count": 18
        }
      ]
    },
    {
      "cell_type": "code",
      "metadata": {
        "colab": {
          "base_uri": "https://localhost:8080/",
          "height": 169
        },
        "id": "wKi5DlTwV3Y9",
        "outputId": "82f89977-67bb-4519-8820-0c11359c35c7"
      },
      "source": [
        ""
      ],
      "execution_count": 19,
      "outputs": [
        {
          "output_type": "error",
          "ename": "NameError",
          "evalue": "ignored",
          "traceback": [
            "\u001b[0;31m---------------------------------------------------------------------------\u001b[0m",
            "\u001b[0;31mNameError\u001b[0m                                 Traceback (most recent call last)",
            "\u001b[0;32m<ipython-input-19-a0956597c7a5>\u001b[0m in \u001b[0;36m<module>\u001b[0;34m()\u001b[0m\n\u001b[0;32m----> 1\u001b[0;31m \u001b[0msimilarity_of_topn_movies\u001b[0m\u001b[0;34m(\u001b[0m\u001b[0;36m1\u001b[0m\u001b[0;34m,\u001b[0m\u001b[0msimilarity_matrix\u001b[0m\u001b[0;34m,\u001b[0m\u001b[0;36m3\u001b[0m\u001b[0;34m)\u001b[0m\u001b[0;34m\u001b[0m\u001b[0;34m\u001b[0m\u001b[0m\n\u001b[0m",
            "\u001b[0;31mNameError\u001b[0m: name 'similarity_of_topn_movies' is not defined"
          ]
        }
      ]
    },
    {
      "cell_type": "code",
      "metadata": {
        "id": "ZfReazY4w1yb"
      },
      "source": [
        "def similarity_of_topn_movies(movie,similarity_matrix,topn):\n",
        "  #similarity = np.array(similarity_matrix.loc[movie])\n",
        "  temp = []\n",
        "  for i in similarity_matrix.columns:\n",
        "    temp.append((similarity_matrix.loc[movie][i],i))\n",
        "  temp = sorted(temp,key=lambda x: x[0])\n",
        "  index = []\n",
        "  similarity = []\n",
        "  for a in temp :\n",
        "    similarity.append(a[0])\n",
        "    index.append(a[1])\n",
        "  similarity.pop()\n",
        "  index.pop()\n",
        "  similarity = similarity[::-1]\n",
        "  similarity = similarity[:topn]\n",
        "  index = index[::-1]\n",
        "  index = index[:topn]\n",
        "  return np.array(similarity),index"
      ],
      "execution_count": 29,
      "outputs": []
    },
    {
      "cell_type": "code",
      "metadata": {
        "id": "BXmdBywPTUk1"
      },
      "source": [
        "def rating_of_topn_movies(user,test_data,topn_index):\n",
        "  rating = []\n",
        "  for i in topn_index:\n",
        "    rating.append(test_data.loc[user][i])\n",
        "  return np.array(rating)\n"
      ],
      "execution_count": 23,
      "outputs": []
    },
    {
      "cell_type": "code",
      "metadata": {
        "id": "kbB401dAYrRC"
      },
      "source": [
        ""
      ],
      "execution_count": null,
      "outputs": []
    },
    {
      "cell_type": "code",
      "metadata": {
        "id": "G0C68l5jYUP-"
      },
      "source": [
        ""
      ],
      "execution_count": null,
      "outputs": []
    },
    {
      "cell_type": "code",
      "metadata": {
        "id": "623q4rh8kSus"
      },
      "source": [
        "def item_prediction_error( similarity_matrix , test_data , topn):\n",
        "  error=0.0\n",
        "  for user in test_data.index :\n",
        "    prediction = []\n",
        "    actual = test_data.loc[user]\n",
        "    for movie in test_data.columns :\n",
        "      if test_data.loc[user][movie] :\n",
        "        #similarity = np.array(similarity_matrix.loc[movie])\n",
        "        similarity,topn_index = similarity_of_topn_movies(movie,similarity_matrix,topn)\n",
        "        total_similarity = np.sum(similarity);\n",
        "        #rating = np.array(test_data.loc[user])\n",
        "        rating = rating_of_topn_movies(user,test_data,topn_index)\n",
        "        similarity = torch.from_numpy(similarity).float().to(device)\n",
        "        rating = torch.from_numpy(rating).float().to(device)\n",
        "        kitty = torch.Tensor.numpy(torch.sum(torch.mul(similarity,rating).to('cpu')) ) /total_similarity\n",
        "        prediction.append(int(kitty))\n",
        "      else:\n",
        "        prediction.append(0.0)\n",
        "    #print(prediction-actual)\n",
        "    result = prediction - actual\n",
        "    for kim in result:\n",
        "      error+=abs(kim)\n",
        "  return error\n",
        "\n"
      ],
      "execution_count": 38,
      "outputs": []
    },
    {
      "cell_type": "code",
      "metadata": {
        "colab": {
          "base_uri": "https://localhost:8080/"
        },
        "id": "FchPkzialjuJ",
        "outputId": "98b1e574-7ebc-4950-c1d5-90c1bd81463d"
      },
      "source": [
        "\n",
        "item_prediction_error(similarity_matrix,test_data,8)"
      ],
      "execution_count": 40,
      "outputs": [
        {
          "output_type": "execute_result",
          "data": {
            "text/plain": [
              "19.0"
            ]
          },
          "metadata": {
            "tags": []
          },
          "execution_count": 40
        }
      ]
    },
    {
      "cell_type": "code",
      "metadata": {
        "id": "1d8XgbA8V7_L",
        "colab": {
          "base_uri": "https://localhost:8080/"
        },
        "outputId": "6c403254-a004-436d-bdbd-329e68da3f8d"
      },
      "source": [
        " similarity_of_topn_movies(1,similarity_matrix,3)"
      ],
      "execution_count": 28,
      "outputs": [
        {
          "output_type": "execute_result",
          "data": {
            "text/plain": [
              "(array([0.74484527, 0.58520573, 0.58520573, 0.58520573, 0.44596392,\n",
              "        0.37925667, 0.30108586]), [2, 6, 5, 3, 7, 8, 4])"
            ]
          },
          "metadata": {
            "tags": []
          },
          "execution_count": 28
        }
      ]
    },
    {
      "cell_type": "markdown",
      "metadata": {
        "id": "pWKebeuqVjn7"
      },
      "source": [
        "## USER BASED"
      ]
    },
    {
      "cell_type": "code",
      "metadata": {
        "colab": {
          "base_uri": "https://localhost:8080/"
        },
        "id": "-R-sTSbNGzmW",
        "outputId": "842d4523-23b0-4021-91e3-3bb66ecb31ec"
      },
      "source": [
        "top_similar_user(10,1,train_data,test_data,0.0)"
      ],
      "execution_count": 54,
      "outputs": [
        {
          "output_type": "stream",
          "text": [
            "[0. 0. 0. 4. 0. 0. 4. 0.]\n",
            "[0. 3. 4. 3. 3. 5. 4. 1.]\n",
            "[0. 0. 0. 0. 0. 0. 0. 0.]\n",
            "[0. 0. 0. 0. 0. 0. 0. 0.]\n",
            "[0. 0. 0. 0. 0. 0. 0. 0.]\n",
            "[0. 3. 0. 0. 0. 0. 0. 0.]\n",
            "[0. 0. 0. 0. 0. 0. 2. 4.]\n",
            "[0. 0. 0. 5. 0. 0. 5. 5.]\n",
            "[0. 0. 0. 0. 0. 0. 3. 0.]\n"
          ],
          "name": "stdout"
        },
        {
          "output_type": "execute_result",
          "data": {
            "text/plain": [
              "([1, 6, 7, 8], [0.5368755, 0.31622776, 0.81649655, 0.7071068])"
            ]
          },
          "metadata": {
            "tags": []
          },
          "execution_count": 54
        }
      ]
    },
    {
      "cell_type": "code",
      "metadata": {
        "id": "ZUaJ7kAUYNsY"
      },
      "source": [
        "def top_similar_user(user_id,movie,train_data,test_data,threshold):\n",
        "  u1 = np.array(test_data.loc[user_id])\n",
        "  u1[movie-1] = 0\n",
        "  #print(u1)\n",
        "  u1 = u1.reshape(1,-1)\n",
        "  u1 = torch.from_numpy(u1).float().to(device)\n",
        "  similarity = []\n",
        "  similar_user = []\n",
        "  for other_user in train_data.index:\n",
        "    cos = torch.nn.CosineSimilarity(dim=1)\n",
        "    u2 = np.array(train_data.loc[other_user])\n",
        "    u2[movie-1] = 0\n",
        "    #print(u2)\n",
        "    u2 = u2.reshape(1,-1)\n",
        "    u2 = torch.from_numpy(u2).float().to(device)\n",
        "    temp=cos(u1,u2)\n",
        "    temp = torch.Tensor.numpy(temp.to('cpu'))[0]\n",
        "    if temp > threshold: \n",
        "      similarity.append(temp)      \n",
        "      similar_user.append(other_user)\n",
        "  return similar_user,similarity"
      ],
      "execution_count": 56,
      "outputs": []
    },
    {
      "cell_type": "code",
      "metadata": {
        "id": "hs5pYkNvYR42"
      },
      "source": [
        "def user_prediction_error(train_data, test_data, threshold):\n",
        "  error=0\n",
        "  for user in tqdm(test_data.index):\n",
        "    prediction = []\n",
        "    actual = test_data.loc[user]\n",
        "    for movie in test_data.columns:\n",
        "      \n",
        "      if test_data.loc[user][movie] :\n",
        "        similar_user , similarity = top_similar_user(user,movie,train_data,test_data,threshold)\n",
        "        similarity = np.array(similarity)\n",
        "        sum_of_similarity = np.sum(similarity)\n",
        "        similarity = torch.from_numpy(similarity).float().to(device)\n",
        "        rating = []\n",
        "        if len(similar_user) > 0 :\n",
        "          for i in similar_user :\n",
        "            rating.append(train_data.loc[i][movie])\n",
        "          rating  = np.array(rating)\n",
        "          rating = torch.from_numpy(rating).float().to(device)\n",
        "          calculated  = torch.sum(rating * similarity)\n",
        "          calculated = calculated.to('cpu')\n",
        "          \n",
        "          cal = torch.Tensor.numpy(calculated)/sum_of_similarity\n",
        "          prediction.append(int(cal))\n",
        "        else:\n",
        "          prediction.append(0)\n",
        "      else:\n",
        "        prediction.append(0)\n",
        "    #print(user,\" \",prediction)\n",
        "    result = prediction - actual\n",
        "    for kim in result:\n",
        "      error+=abs(kim)\n",
        "    #error += abs( np.sum(prediction - actual ))\n",
        "  return error\n",
        "  "
      ],
      "execution_count": 60,
      "outputs": []
    },
    {
      "cell_type": "code",
      "metadata": {
        "id": "q_4IxvLOfrBG"
      },
      "source": [
        "user_prediction_error(train_data, test_data, 0.0)"
      ],
      "execution_count": null,
      "outputs": []
    },
    {
      "cell_type": "code",
      "metadata": {
        "id": "qEQoHh2Nf7Fp"
      },
      "source": [
        "train_data = movie_matrix.loc[:800,:]\n",
        "test_data = movie_matrix.loc[801:,:]"
      ],
      "execution_count": 66,
      "outputs": []
    },
    {
      "cell_type": "code",
      "metadata": {
        "colab": {
          "base_uri": "https://localhost:8080/"
        },
        "id": "EjatOPabKq52",
        "outputId": "4f236933-4723-43e8-86ee-704979f8ec83"
      },
      "source": [
        "jovian.commit()"
      ],
      "execution_count": 2,
      "outputs": [
        {
          "output_type": "stream",
          "text": [
            "[jovian] Detected Colab notebook...\u001b[0m\n"
          ],
          "name": "stdout"
        },
        {
          "output_type": "stream",
          "text": [
            "\u001b[31m[jovian] Error: jovian.commit doesn't work on Colab unless the notebook was created and executed from Jovian.\n",
            "Make sure to run the first code cell at the top after executing from Jovian.\n",
            "Alternatively, you can download this notebook and upload it manually to Jovian.\n",
            "Learn more: https://jovian.ai/docs/user-guide/run.html#run-on-colab\u001b[0m\n"
          ],
          "name": "stderr"
        }
      ]
    },
    {
      "cell_type": "code",
      "metadata": {
        "colab": {
          "base_uri": "https://localhost:8080/"
        },
        "id": "xNkmQRmuIDJ_",
        "outputId": "02d93687-300d-4612-89a9-93170257bd64"
      },
      "source": [
        "! pip install jovian --upgrade\n",
        "import jovian\n"
      ],
      "execution_count": 1,
      "outputs": [
        {
          "output_type": "stream",
          "text": [
            "Requirement already up-to-date: jovian in /usr/local/lib/python3.6/dist-packages (0.2.32)\n",
            "Requirement already satisfied, skipping upgrade: click in /usr/local/lib/python3.6/dist-packages (from jovian) (7.1.2)\n",
            "Requirement already satisfied, skipping upgrade: uuid in /usr/local/lib/python3.6/dist-packages (from jovian) (1.30)\n",
            "Requirement already satisfied, skipping upgrade: requests in /usr/local/lib/python3.6/dist-packages (from jovian) (2.23.0)\n",
            "Requirement already satisfied, skipping upgrade: pyyaml in /usr/local/lib/python3.6/dist-packages (from jovian) (3.13)\n",
            "Requirement already satisfied, skipping upgrade: idna<3,>=2.5 in /usr/local/lib/python3.6/dist-packages (from requests->jovian) (2.10)\n",
            "Requirement already satisfied, skipping upgrade: certifi>=2017.4.17 in /usr/local/lib/python3.6/dist-packages (from requests->jovian) (2020.12.5)\n",
            "Requirement already satisfied, skipping upgrade: urllib3!=1.25.0,!=1.25.1,<1.26,>=1.21.1 in /usr/local/lib/python3.6/dist-packages (from requests->jovian) (1.24.3)\n",
            "Requirement already satisfied, skipping upgrade: chardet<4,>=3.0.2 in /usr/local/lib/python3.6/dist-packages (from requests->jovian) (3.0.4)\n"
          ],
          "name": "stdout"
        }
      ]
    }
  ]
}